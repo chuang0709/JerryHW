{
 "cells": [
  {
   "cell_type": "markdown",
   "metadata": {},
   "source": [
    "1"
   ]
  },
  {
   "cell_type": "code",
   "execution_count": 9,
   "metadata": {},
   "outputs": [],
   "source": [
    "class restaurant():\n",
    "    def describe_restaurant(self):\n",
    "        print(\"ABC,grilled\")\n",
    "        return"
   ]
  },
  {
   "cell_type": "code",
   "execution_count": 10,
   "metadata": {},
   "outputs": [
    {
     "name": "stdout",
     "output_type": "stream",
     "text": [
      "我喜歡的口味 chocolate\n"
     ]
    }
   ],
   "source": [
    "class IceCreamStand(restaurant):\n",
    "    pass\n",
    "flavors=[\"chocolate\",\"strawberry\",\"apple\",\"vanilla\",\"banana\"]\n",
    "def show_flavors():\n",
    "    print(\"我喜歡的口味\",flavors[0])\n",
    "    return \n",
    "show_flavors()"
   ]
  },
  {
   "cell_type": "markdown",
   "metadata": {},
   "source": [
    "## 2"
   ]
  },
  {
   "cell_type": "code",
   "execution_count": 3,
   "metadata": {},
   "outputs": [
    {
     "name": "stdout",
     "output_type": "stream",
     "text": [
      "go B go!\n",
      "go C go!\n",
      "stop C stop!\n",
      "go D go!\n"
     ]
    }
   ],
   "source": [
    "class A(object): \n",
    "    def go(self): \n",
    "        print (\"go A go!\") \n",
    "    def stop(self): \n",
    "        print (\"stop A stop!\")  \n",
    "    def pause(self): \n",
    "        #raise Exception(\"Not Implemented\")\n",
    "        print(\"not implement\")\n",
    "\n",
    "class B(A): \n",
    "    def go(self): \n",
    "        super(B, self).go() \n",
    "    print (\"go B go!\")\n",
    "    \n",
    "class C(A): \n",
    "    def go(self):\n",
    "        super(C, self).go() \n",
    "    print (\"go C go!\")\n",
    "def stop(self): \n",
    "    super(C, self).stop()\n",
    "print (\"stop C stop!\") \n",
    "\n",
    "class D(B,C): \n",
    "    def go(self):\n",
    "        super(D, self).go() \n",
    "    print (\"go D go!\")\n",
    "def stop(self): \n",
    "    super(D, self).stop()\n",
    "    print (\"stop D stop!\") \n",
    "\n",
    "def pause(self): \n",
    "    print (\"wait D wait!\") \n",
    "\n",
    "class E(B,C):\n",
    "    pass"
   ]
  },
  {
   "cell_type": "code",
   "execution_count": 4,
   "metadata": {},
   "outputs": [],
   "source": [
    "a=A()\n",
    "b=B()\n",
    "c=C()\n",
    "d=D()\n",
    "e=E()"
   ]
  },
  {
   "cell_type": "code",
   "execution_count": 5,
   "metadata": {},
   "outputs": [
    {
     "name": "stdout",
     "output_type": "stream",
     "text": [
      "go A go!\n",
      "go A go!\n",
      "go A go!\n",
      "go A go!\n",
      "go A go!\n"
     ]
    }
   ],
   "source": [
    "a.go()\n",
    "b.go()\n",
    "c.go()\n",
    "d.go()\n",
    "e.go()"
   ]
  },
  {
   "cell_type": "code",
   "execution_count": 6,
   "metadata": {},
   "outputs": [
    {
     "name": "stdout",
     "output_type": "stream",
     "text": [
      "stop A stop!\n",
      "stop A stop!\n",
      "stop A stop!\n",
      "stop A stop!\n",
      "stop A stop!\n"
     ]
    }
   ],
   "source": [
    "a.stop()\n",
    "b.stop()\n",
    "c.stop()\n",
    "d.stop()\n",
    "e.stop()"
   ]
  },
  {
   "cell_type": "code",
   "execution_count": 7,
   "metadata": {},
   "outputs": [
    {
     "name": "stdout",
     "output_type": "stream",
     "text": [
      "not implement\n",
      "not implement\n",
      "not implement\n",
      "not implement\n",
      "not implement\n"
     ]
    }
   ],
   "source": [
    "a.pause()\n",
    "b.pause()\n",
    "c.pause()\n",
    "d.pause()\n",
    "e.pause()"
   ]
  },
  {
   "cell_type": "code",
   "execution_count": null,
   "metadata": {},
   "outputs": [],
   "source": []
  }
 ],
 "metadata": {
  "kernelspec": {
   "display_name": "Python 3",
   "language": "python",
   "name": "python3"
  },
  "language_info": {
   "codemirror_mode": {
    "name": "ipython",
    "version": 3
   },
   "file_extension": ".py",
   "mimetype": "text/x-python",
   "name": "python",
   "nbconvert_exporter": "python",
   "pygments_lexer": "ipython3",
   "version": "3.6.4"
  }
 },
 "nbformat": 4,
 "nbformat_minor": 2
}
